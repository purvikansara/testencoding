{
 "cells": [
  {
   "cell_type": "code",
   "execution_count": 1,
   "id": "54af0cdc-989c-40af-b2a3-13edfdf5d7b3",
   "metadata": {},
   "outputs": [
    {
     "ename": "ModuleNotFoundError",
     "evalue": "No module named 'googleapiclient'",
     "output_type": "error",
     "traceback": [
      "\u001b[0;31m---------------------------------------------------------------------------\u001b[0m",
      "\u001b[0;31mModuleNotFoundError\u001b[0m                       Traceback (most recent call last)",
      "Cell \u001b[0;32mIn[1], line 1\u001b[0m\n\u001b[0;32m----> 1\u001b[0m \u001b[38;5;28;01mfrom\u001b[39;00m \u001b[38;5;21;01mgoogleapiclient\u001b[39;00m\u001b[38;5;21;01m.\u001b[39;00m\u001b[38;5;21;01mdiscovery\u001b[39;00m \u001b[38;5;28;01mimport\u001b[39;00m build\n\u001b[1;32m      2\u001b[0m \u001b[38;5;28;01mfrom\u001b[39;00m \u001b[38;5;21;01mgoogle\u001b[39;00m\u001b[38;5;21;01m.\u001b[39;00m\u001b[38;5;21;01moauth2\u001b[39;00m \u001b[38;5;28;01mimport\u001b[39;00m service_account\n\u001b[1;32m      4\u001b[0m \u001b[38;5;66;03m# Replace with your actual credentials file path\u001b[39;00m\n",
      "\u001b[0;31mModuleNotFoundError\u001b[0m: No module named 'googleapiclient'"
     ]
    }
   ],
   "source": [
    "from googleapiclient.discovery import build\n",
    "from google.oauth2 import service_account\n",
    "\n",
    "# Replace with your actual credentials file path\n",
    "SERVICE_ACCOUNT_FILE = 'path/to/your/credentials.json'\n",
    "\n",
    "# If modifying these scopes, delete the file token.json.\n",
    "SCOPES = ['https://www.googleapis.com/auth/drive.readonly']\n",
    "\n",
    "creds = service_account.Credentials.from_service_account_file(\n",
    "        SERVICE_ACCOUNT_FILE, scopes=SCOPES)\n",
    "\n",
    "service = build('docs', 'v1', credentials=creds)\n",
    "\n",
    "def read_google_doc(doc_url):\n",
    "    \"\"\"\n",
    "    Reads the content of a Google Doc given its URL.\n",
    "\n",
    "    Args:\n",
    "        doc_url: The URL of the Google Doc.\n",
    "\n",
    "    Returns:\n",
    "        The text content of the Google Doc.\n",
    "    \"\"\"\n",
    "\n",
    "    # Extract the document ID from the URL\n",
    "    doc_id = doc_url.split('/')[-2]  # Assumes standard Google Doc URL format\n",
    "\n",
    "    # Retrieve the document\n",
    "    doc = service.documents().get(documentId=doc_id).execute()\n",
    "\n",
    "    # Extract the text content\n",
    "    content = ''\n",
    "    for element in doc.get('body').get('content'):\n",
    "        if 'paragraph' in element:\n",
    "            for element in element.get('paragraph').get('elements'):\n",
    "                if 'textRun' in element:\n",
    "                    content += element.get('textRun').get('content')\n",
    "\n",
    "    return content"
   ]
  },
  {
   "cell_type": "code",
   "execution_count": null,
   "id": "caee026c-f095-418a-b284-40b2f3bc01d2",
   "metadata": {},
   "outputs": [],
   "source": []
  },
  {
   "cell_type": "code",
   "execution_count": null,
   "id": "5ddd8c29-5b6c-4b9e-b081-ad4371714b79",
   "metadata": {},
   "outputs": [],
   "source": []
  },
  {
   "cell_type": "code",
   "execution_count": null,
   "id": "3dd8d398-8994-4ac2-97d6-562be286723d",
   "metadata": {},
   "outputs": [],
   "source": []
  },
  {
   "cell_type": "code",
   "execution_count": null,
   "id": "034bbacd-0096-484e-9727-874eafb77efd",
   "metadata": {},
   "outputs": [],
   "source": []
  },
  {
   "cell_type": "code",
   "execution_count": null,
   "id": "09a25ed1-69ce-496b-a5ba-77aeb0fd5ff5",
   "metadata": {},
   "outputs": [],
   "source": []
  },
  {
   "cell_type": "code",
   "execution_count": null,
   "id": "a65b1a36-4b67-477e-a2c9-3ef14ae5b222",
   "metadata": {},
   "outputs": [],
   "source": []
  },
  {
   "cell_type": "code",
   "execution_count": null,
   "id": "17d8b578-8c71-4ab8-8c48-4e190230a7b3",
   "metadata": {},
   "outputs": [],
   "source": []
  },
  {
   "cell_type": "code",
   "execution_count": null,
   "id": "ecf18f32-9463-48bf-9db1-dbae5bf2bbbb",
   "metadata": {},
   "outputs": [],
   "source": []
  },
  {
   "cell_type": "code",
   "execution_count": null,
   "id": "94c321a5-f047-4959-827f-30ac9fa10c6d",
   "metadata": {},
   "outputs": [],
   "source": []
  },
  {
   "cell_type": "code",
   "execution_count": null,
   "id": "74183e74-4ed5-4015-b475-299b8bb5f621",
   "metadata": {},
   "outputs": [],
   "source": []
  }
 ],
 "metadata": {
  "kernelspec": {
   "display_name": "Python 3 (ipykernel)",
   "language": "python",
   "name": "python3"
  },
  "language_info": {
   "codemirror_mode": {
    "name": "ipython",
    "version": 3
   },
   "file_extension": ".py",
   "mimetype": "text/x-python",
   "name": "python",
   "nbconvert_exporter": "python",
   "pygments_lexer": "ipython3",
   "version": "3.10.10"
  }
 },
 "nbformat": 4,
 "nbformat_minor": 5
}
