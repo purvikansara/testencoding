{
 "cells": [
  {
   "cell_type": "markdown",
   "id": "29136a3e-63b6-441c-8b50-9fc00a049170",
   "metadata": {},
   "source": [
    "## Test"
   ]
  },
  {
   "cell_type": "code",
   "execution_count": 5,
   "id": "008aa08e-358d-4aef-bbcf-be455676d00e",
   "metadata": {},
   "outputs": [],
   "source": [
    "function reverse_word(string word)\n",
    "    reversed = \"\"\n",
    "    for letter in word:\n",
    "            reversed = letter + reversed\n",
    "    return reversed\n",
    "\n",
    "function is_palindrome(string word)\n",
    "        return word == reverse_word(word)\n",
    "\n",
    "function check_all_palindromes(array arr)\n",
    "        for word in arr:\n",
    "                if is_palindrome(word) == false\n",
    "                        return false\n",
    "        return true"
   ]
  },
  {
   "cell_type": "code",
   "execution_count": 8,
   "id": "53f4c321-32de-4994-b04f-aed3545a7d94",
   "metadata": {},
   "outputs": [],
   "source": [
    "def  check_all_palindromes(arr):\n",
    "    if arr[0] == reverse_word(arr[0]):\n",
    "            if arr[1] == reverse_word(arr[1]):\n",
    "                    if arr[2] == reverse_word(arr[2]):\n",
    "                            return true\n",
    "    return false"
   ]
  },
  {
   "cell_type": "code",
   "execution_count": null,
   "id": "85131656-ee78-4103-b703-7e8e162d3a05",
   "metadata": {},
   "outputs": [],
   "source": [
    "## Check if the array of string is palindrome or not"
   ]
  },
  {
   "cell_type": "code",
   "execution_count": 9,
   "id": "92b6e505-aab3-4744-9abf-fa9d35c7a941",
   "metadata": {},
   "outputs": [
    {
     "name": "stdout",
     "output_type": "stream",
     "text": [
      "'racecar' is a palindrome: True\n",
      "'hello' is a palindrome: False\n"
     ]
    }
   ],
   "source": [
    "def is_palindrome(text):\n",
    "\n",
    "  # Remove spaces and convert to lowercase for case-insensitive comparison\n",
    "  cleaned_text = text.replace(\" \", \"\").lower()\n",
    "\n",
    "  # Reverse the string\n",
    "  reversed_text = cleaned_text[::-1]\n",
    "\n",
    "  # Check if the original and reversed strings are the same\n",
    "  return cleaned_text == reversed_text\n",
    "\n",
    "# Example usage\n",
    "text1 = \"racecar\"\n",
    "text2 = \"hello\"\n",
    "\n",
    "print(f\"'{text1}' is a palindrome:\", is_palindrome(text1))  # Output: True\n",
    "print(f\"'{text2}' is a palindrome:\", is_palindrome(text2))  # Output: False"
   ]
  },
  {
   "cell_type": "code",
   "execution_count": 10,
   "id": "4239cca7-bed8-45c8-ba62-aced31bcb598",
   "metadata": {},
   "outputs": [
    {
     "name": "stdout",
     "output_type": "stream",
     "text": [
      "All words in '['racecar', 'noon', 'civic']' are palindromes: True\n",
      "All words in '['racecar', 'shoe', 'moon']' are palindromes: False\n"
     ]
    }
   ],
   "source": [
    "def all_words_palindromes(words):\n",
    "  \"\"\"\n",
    "  Checks if all words in an array are palindromes.\n",
    "\n",
    "  \"\"\"\n",
    "\n",
    "  for word in words:\n",
    "    if not is_palindrome(word):  # Reuse the is_palindrome function from before\n",
    "      return False\n",
    "\n",
    "  return True\n",
    "\n",
    "# Example usage\n",
    "words1 = ['racecar', 'noon', 'civic']\n",
    "words2 = ['racecar', 'shoe', 'moon']\n",
    "\n",
    "print(f\"All words in '{words1}' are palindromes:\", all_words_palindromes(words1))  # Output: True\n",
    "print(f\"All words in '{words2}' are palindromes:\", all_words_palindromes(words2))  # Output: False"
   ]
  },
  {
   "cell_type": "code",
   "execution_count": null,
   "id": "d717ff28-010d-4537-8c6f-4689e3b069f4",
   "metadata": {},
   "outputs": [],
   "source": []
  },
  {
   "cell_type": "code",
   "execution_count": null,
   "id": "3e318ddd-8f0e-40d3-8fce-e24baeb7b672",
   "metadata": {},
   "outputs": [],
   "source": []
  },
  {
   "cell_type": "code",
   "execution_count": null,
   "id": "b98428c3-001d-494c-bb2e-019d687d0737",
   "metadata": {},
   "outputs": [],
   "source": []
  },
  {
   "cell_type": "code",
   "execution_count": null,
   "id": "02286efd-cd1e-4835-92f1-989ac42a846f",
   "metadata": {},
   "outputs": [],
   "source": []
  }
 ],
 "metadata": {
  "kernelspec": {
   "display_name": "Python 3 (ipykernel)",
   "language": "python",
   "name": "python3"
  },
  "language_info": {
   "codemirror_mode": {
    "name": "ipython",
    "version": 3
   },
   "file_extension": ".py",
   "mimetype": "text/x-python",
   "name": "python",
   "nbconvert_exporter": "python",
   "pygments_lexer": "ipython3",
   "version": "3.10.10"
  }
 },
 "nbformat": 4,
 "nbformat_minor": 5
}
